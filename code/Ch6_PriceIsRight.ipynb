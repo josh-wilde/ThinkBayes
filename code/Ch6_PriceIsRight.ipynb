{
 "metadata": {
  "name": "",
  "signature": "sha256:0818b20892cbdcf8fef0cd3ca0621008b045ebebd5000c1fe2985c84e5e18a97"
 },
 "nbformat": 3,
 "nbformat_minor": 0,
 "worksheets": [
  {
   "cells": [
    {
     "cell_type": "code",
     "collapsed": false,
     "input": [
      "# Do entire Price is Right part"
     ],
     "language": "python",
     "metadata": {},
     "outputs": [],
     "prompt_number": 1
    }
   ],
   "metadata": {}
  }
 ]
}