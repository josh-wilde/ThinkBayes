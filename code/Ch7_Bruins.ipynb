{
 "metadata": {
  "name": "",
  "signature": "sha256:15d796d24e6e42a46467dca6759f7b8fc9ae03c0778b46e73832553c5d2c590e"
 },
 "nbformat": 3,
 "nbformat_minor": 0,
 "worksheets": [
  {
   "cells": [
    {
     "cell_type": "code",
     "collapsed": false,
     "input": [
      "# Do entire Bruins problem"
     ],
     "language": "python",
     "metadata": {},
     "outputs": []
    }
   ],
   "metadata": {}
  }
 ]
}