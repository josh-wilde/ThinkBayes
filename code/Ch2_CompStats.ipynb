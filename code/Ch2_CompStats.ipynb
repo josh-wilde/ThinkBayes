{
 "metadata": {
  "name": "",
  "signature": "sha256:e080632d1a47d6237fc26407c30898667a2be704bd526f94e309d5cc7b8bb01d"
 },
 "nbformat": 3,
 "nbformat_minor": 0,
 "worksheets": [
  {
   "cells": [
    {
     "cell_type": "markdown",
     "metadata": {},
     "source": [
      "Chapter 2, Computational Statistics"
     ]
    },
    {
     "cell_type": "code",
     "collapsed": false,
     "input": [
      "# Imports\n",
      "from thinkbayes import Pmf"
     ],
     "language": "python",
     "metadata": {},
     "outputs": [],
     "prompt_number": 1
    },
    {
     "cell_type": "code",
     "collapsed": false,
     "input": [
      "# Initial toy Pmf\n",
      "pmf = Pmf()\n",
      "for x in [1,2,3,4,5,6]:\n",
      "    pmf.Set(x, 1/6.0)\n",
      "pmf.Print()"
     ],
     "language": "python",
     "metadata": {},
     "outputs": [
      {
       "output_type": "stream",
       "stream": "stdout",
       "text": [
        "1 0.166666666667\n",
        "2 0.166666666667\n",
        "3 0.166666666667\n",
        "4 0.166666666667\n",
        "5 0.166666666667\n",
        "6 0.166666666667\n"
       ]
      }
     ],
     "prompt_number": 4
    },
    {
     "cell_type": "code",
     "collapsed": false,
     "input": [
      "# Cookie problem before classes\n",
      "# Bowl 1: 30 vanilla, 10 chocolate\n",
      "# Bowl 2: 20 each\n",
      "# Select cookie at random, it is vanilla.\n",
      "# Probability it is from bowl 1?\n",
      "pmf = Pmf()"
     ],
     "language": "python",
     "metadata": {},
     "outputs": [],
     "prompt_number": 12
    },
    {
     "cell_type": "code",
     "collapsed": false,
     "input": [
      "# Define the prior distribution\n",
      "# Equal number of cookies in each bowl, so it is 50-50 prior\n",
      "pmf.Set('Bowl 1', 0.5)\n",
      "pmf.Set('Bowl 2', 0.5)"
     ],
     "language": "python",
     "metadata": {},
     "outputs": [],
     "prompt_number": 13
    },
    {
     "cell_type": "code",
     "collapsed": false,
     "input": [
      "# Then update these probabilities\n",
      "# With information that you have a vanilla cookie\n",
      "pmf.Mult('Bowl 1', 0.75)\n",
      "pmf.Mult('Bowl 2', 0.50)\n",
      "pmf.Print()"
     ],
     "language": "python",
     "metadata": {},
     "outputs": [
      {
       "output_type": "stream",
       "stream": "stdout",
       "text": [
        "Bowl 1 0.375\n",
        "Bowl 2 0.25\n"
       ]
      }
     ],
     "prompt_number": 14
    },
    {
     "cell_type": "code",
     "collapsed": false,
     "input": [
      "# Then you can normalize these probabilities back to 1\n",
      "# Because the hypotheses are collectively exhaustive and mutually exclusive\n",
      "pmf.Normalize()\n",
      "pmf.Print()"
     ],
     "language": "python",
     "metadata": {},
     "outputs": [
      {
       "output_type": "stream",
       "stream": "stdout",
       "text": [
        "Bowl 1 0.6\n",
        "Bowl 2 0.4\n"
       ]
      }
     ],
     "prompt_number": 15
    },
    {
     "cell_type": "code",
     "collapsed": false,
     "input": [],
     "language": "python",
     "metadata": {},
     "outputs": []
    }
   ],
   "metadata": {}
  }
 ]
}